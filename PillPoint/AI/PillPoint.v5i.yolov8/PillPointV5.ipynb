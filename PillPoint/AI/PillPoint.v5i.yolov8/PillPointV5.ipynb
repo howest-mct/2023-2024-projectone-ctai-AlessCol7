{
 "cells": [
  {
   "cell_type": "code",
   "execution_count": 1,
   "metadata": {},
   "outputs": [
    {
     "name": "stdout",
     "output_type": "stream",
     "text": [
      "Train path: True\n",
      "Validation path: True\n",
      "Test path: True\n",
      " The number of images in training set: 2694\n",
      " The number of images in validation set: 236\n",
      " The number of images in test set: 113\n"
     ]
    }
   ],
   "source": [
    "import yaml\n",
    "import os\n",
    "\n",
    "with open('data.yaml', 'r') as file:\n",
    "    data = yaml.safe_load(file)\n",
    "\n",
    "print(\"Train path:\", os.path.exists(data['train']))\n",
    "print(\"Validation path:\", os.path.exists(data['val']))\n",
    "print(\"Test path:\", os.path.exists(data['test']))\n",
    "\n",
    "def count_images(directory):\n",
    "    supported_formats = ('.jpg', '.jpeg', '.png', '.bmp', '.tiff', '.tif')\n",
    "    return len([name for name in os.listdir(directory) if name.lower().endswith(supported_formats)])\n",
    "\n",
    "print(f\" The number of images in training set: {count_images(data['train'])}\")\n",
    "print(f\" The number of images in validation set: {count_images(data['val'])}\")\n",
    "print(f\" The number of images in test set: {count_images(data['test'])}\")\n"
   ]
  },
  {
   "cell_type": "code",
   "execution_count": 2,
   "metadata": {},
   "outputs": [
    {
     "name": "stdout",
     "output_type": "stream",
     "text": [
      "Downloading https://github.com/ultralytics/assets/releases/download/v0.0.0/yolov8n.pt to 'yolov8n.pt'...\n"
     ]
    },
    {
     "data": {
      "application/vnd.jupyter.widget-view+json": {
       "model_id": "0100def4dbf54f8d8c9baa0f192ed2fd",
       "version_major": 2,
       "version_minor": 0
      },
      "text/plain": [
       "  0%|          | 0.00/6.23M [00:00<?, ?B/s]"
      ]
     },
     "metadata": {},
     "output_type": "display_data"
    },
    {
     "name": "stdout",
     "output_type": "stream",
     "text": [
      "New https://pypi.org/project/ultralytics/8.2.28 available 😃 Update with 'pip install -U ultralytics'\n",
      "Ultralytics YOLOv8.0.227 🚀 Python-3.9.18 torch-1.13.1 CPU (Apple M1)\n",
      "WARNING ⚠️ Upgrade to torch>=2.0.0 for deterministic training.\n",
      "\u001b[34m\u001b[1mengine/trainer: \u001b[0mtask=detect, mode=train, model=yolov8n.pt, data=/Users/alessiacolumban/Desktop/2023-2024-projectone-ctai-AlessCol7/PillPoint/AI/PillPoint.v5i.yolov8/data.yaml, epochs=20, patience=50, batch=16, imgsz=480, save=True, save_period=-1, cache=False, device=None, workers=8, project=None, name=train, exist_ok=False, pretrained=True, optimizer=auto, verbose=True, seed=0, deterministic=True, single_cls=False, rect=False, cos_lr=False, close_mosaic=10, resume=False, amp=True, fraction=1.0, profile=False, freeze=None, overlap_mask=True, mask_ratio=4, dropout=0.0, val=True, split=val, save_json=False, save_hybrid=False, conf=None, iou=0.7, max_det=300, half=False, dnn=False, plots=True, source=None, vid_stride=1, stream_buffer=False, visualize=False, augment=False, agnostic_nms=False, classes=None, retina_masks=False, show=False, save_frames=False, save_txt=False, save_conf=False, save_crop=False, show_labels=True, show_conf=True, show_boxes=True, line_width=None, format=torchscript, keras=False, optimize=False, int8=False, dynamic=False, simplify=False, opset=None, workspace=4, nms=False, lr0=0.01, lrf=0.01, momentum=0.937, weight_decay=0.0005, warmup_epochs=3.0, warmup_momentum=0.8, warmup_bias_lr=0.1, box=7.5, cls=0.5, dfl=1.5, pose=12.0, kobj=1.0, label_smoothing=0.0, nbs=64, hsv_h=0.015, hsv_s=0.7, hsv_v=0.4, degrees=0.0, translate=0.1, scale=0.5, shear=0.0, perspective=0.0, flipud=0.0, fliplr=0.5, mosaic=1.0, mixup=0.0, copy_paste=0.0, cfg=None, tracker=botsort.yaml, save_dir=runs/detect/train\n",
      "Overriding model.yaml nc=80 with nc=18\n",
      "\n",
      "                   from  n    params  module                                       arguments                     \n",
      "  0                  -1  1       464  ultralytics.nn.modules.conv.Conv             [3, 16, 3, 2]                 \n",
      "  1                  -1  1      4672  ultralytics.nn.modules.conv.Conv             [16, 32, 3, 2]                \n",
      "  2                  -1  1      7360  ultralytics.nn.modules.block.C2f             [32, 32, 1, True]             \n",
      "  3                  -1  1     18560  ultralytics.nn.modules.conv.Conv             [32, 64, 3, 2]                \n",
      "  4                  -1  2     49664  ultralytics.nn.modules.block.C2f             [64, 64, 2, True]             \n",
      "  5                  -1  1     73984  ultralytics.nn.modules.conv.Conv             [64, 128, 3, 2]               \n",
      "  6                  -1  2    197632  ultralytics.nn.modules.block.C2f             [128, 128, 2, True]           \n",
      "  7                  -1  1    295424  ultralytics.nn.modules.conv.Conv             [128, 256, 3, 2]              \n",
      "  8                  -1  1    460288  ultralytics.nn.modules.block.C2f             [256, 256, 1, True]           \n",
      "  9                  -1  1    164608  ultralytics.nn.modules.block.SPPF            [256, 256, 5]                 \n",
      " 10                  -1  1         0  torch.nn.modules.upsampling.Upsample         [None, 2, 'nearest']          \n",
      " 11             [-1, 6]  1         0  ultralytics.nn.modules.conv.Concat           [1]                           \n",
      " 12                  -1  1    148224  ultralytics.nn.modules.block.C2f             [384, 128, 1]                 \n",
      " 13                  -1  1         0  torch.nn.modules.upsampling.Upsample         [None, 2, 'nearest']          \n",
      " 14             [-1, 4]  1         0  ultralytics.nn.modules.conv.Concat           [1]                           \n",
      " 15                  -1  1     37248  ultralytics.nn.modules.block.C2f             [192, 64, 1]                  \n",
      " 16                  -1  1     36992  ultralytics.nn.modules.conv.Conv             [64, 64, 3, 2]                \n",
      " 17            [-1, 12]  1         0  ultralytics.nn.modules.conv.Concat           [1]                           \n",
      " 18                  -1  1    123648  ultralytics.nn.modules.block.C2f             [192, 128, 1]                 \n",
      " 19                  -1  1    147712  ultralytics.nn.modules.conv.Conv             [128, 128, 3, 2]              \n",
      " 20             [-1, 9]  1         0  ultralytics.nn.modules.conv.Concat           [1]                           \n",
      " 21                  -1  1    493056  ultralytics.nn.modules.block.C2f             [384, 256, 1]                 \n",
      " 22        [15, 18, 21]  1    754822  ultralytics.nn.modules.head.Detect           [18, [64, 128, 256]]          \n"
     ]
    },
    {
     "name": "stderr",
     "output_type": "stream",
     "text": [
      "Fontconfig warning: ignoring UTF-8: not a valid region tag\n",
      "[W NNPACK.cpp:53] Could not initialize NNPACK! Reason: Unsupported hardware.\n"
     ]
    },
    {
     "name": "stdout",
     "output_type": "stream",
     "text": [
      "Model summary: 225 layers, 3014358 parameters, 3014342 gradients\n",
      "\n",
      "Transferred 319/355 items from pretrained weights\n",
      "Freezing layer 'model.22.dfl.conv.weight'\n"
     ]
    },
    {
     "name": "stderr",
     "output_type": "stream",
     "text": [
      "\u001b[34m\u001b[1mtrain: \u001b[0mScanning /Users/alessiacolumban/Desktop/2023-2024-projectone-ctai-AlessCol7/PillPoint/AI/PillPoint.v5i.yolov8/train/labels... 2694 images, 0 backgrounds, 0 corrupt: 100%|██████████| 2694/2694 [00:01<00:00, 2426.61it/s]\n"
     ]
    },
    {
     "name": "stdout",
     "output_type": "stream",
     "text": [
      "\u001b[34m\u001b[1mtrain: \u001b[0mNew cache created: /Users/alessiacolumban/Desktop/2023-2024-projectone-ctai-AlessCol7/PillPoint/AI/PillPoint.v5i.yolov8/train/labels.cache\n",
      "WARNING ⚠️ Box and segment counts should be equal, but got len(segments) = 927, len(boxes) = 14556. To resolve this only boxes will be used and all segments will be removed. To avoid this please supply either a detect or segment dataset, not a detect-segment mixed dataset.\n"
     ]
    },
    {
     "name": "stderr",
     "output_type": "stream",
     "text": [
      "\u001b[34m\u001b[1mval: \u001b[0mScanning /Users/alessiacolumban/Desktop/2023-2024-projectone-ctai-AlessCol7/PillPoint/AI/PillPoint.v5i.yolov8/valid/labels... 236 images, 0 backgrounds, 0 corrupt: 100%|██████████| 236/236 [00:00<00:00, 2557.65it/s]"
     ]
    },
    {
     "name": "stdout",
     "output_type": "stream",
     "text": [
      "\u001b[34m\u001b[1mval: \u001b[0mNew cache created: /Users/alessiacolumban/Desktop/2023-2024-projectone-ctai-AlessCol7/PillPoint/AI/PillPoint.v5i.yolov8/valid/labels.cache\n",
      "WARNING ⚠️ Box and segment counts should be equal, but got len(segments) = 82, len(boxes) = 1129. To resolve this only boxes will be used and all segments will be removed. To avoid this please supply either a detect or segment dataset, not a detect-segment mixed dataset.\n"
     ]
    },
    {
     "name": "stderr",
     "output_type": "stream",
     "text": [
      "\n"
     ]
    },
    {
     "name": "stdout",
     "output_type": "stream",
     "text": [
      "Plotting labels to runs/detect/train/labels.jpg... \n",
      "\u001b[34m\u001b[1moptimizer:\u001b[0m 'optimizer=auto' found, ignoring 'lr0=0.01' and 'momentum=0.937' and determining best 'optimizer', 'lr0' and 'momentum' automatically... \n",
      "\u001b[34m\u001b[1moptimizer:\u001b[0m AdamW(lr=0.000455, momentum=0.9) with parameter groups 57 weight(decay=0.0), 64 weight(decay=0.0005), 63 bias(decay=0.0)\n",
      "Image sizes 480 train, 480 val\n",
      "Using 0 dataloader workers\n",
      "Logging results to \u001b[1mruns/detect/train\u001b[0m\n",
      "Starting training for 20 epochs...\n",
      "\n",
      "      Epoch    GPU_mem   box_loss   cls_loss   dfl_loss  Instances       Size\n"
     ]
    },
    {
     "name": "stderr",
     "output_type": "stream",
     "text": [
      "       1/20         0G      1.595      3.258      1.386         45        480: 100%|██████████| 169/169 [12:43<00:00,  4.52s/it]\n",
      "                 Class     Images  Instances      Box(P          R      mAP50  mAP50-95): 100%|██████████| 8/8 [00:22<00:00,  2.85s/it]"
     ]
    },
    {
     "name": "stdout",
     "output_type": "stream",
     "text": [
      "                   all        236       1129      0.259      0.454      0.273      0.163\n"
     ]
    },
    {
     "name": "stderr",
     "output_type": "stream",
     "text": [
      "\n"
     ]
    },
    {
     "name": "stdout",
     "output_type": "stream",
     "text": [
      "\n",
      "      Epoch    GPU_mem   box_loss   cls_loss   dfl_loss  Instances       Size\n"
     ]
    },
    {
     "name": "stderr",
     "output_type": "stream",
     "text": [
      "       2/20         0G      1.408      1.921       1.25         71        480: 100%|██████████| 169/169 [10:59<00:00,  3.91s/it]\n",
      "                 Class     Images  Instances      Box(P          R      mAP50  mAP50-95): 100%|██████████| 8/8 [00:23<00:00,  2.89s/it]"
     ]
    },
    {
     "name": "stdout",
     "output_type": "stream",
     "text": [
      "                   all        236       1129      0.252      0.699      0.372      0.222\n"
     ]
    },
    {
     "name": "stderr",
     "output_type": "stream",
     "text": [
      "\n"
     ]
    },
    {
     "name": "stdout",
     "output_type": "stream",
     "text": [
      "\n",
      "      Epoch    GPU_mem   box_loss   cls_loss   dfl_loss  Instances       Size\n"
     ]
    },
    {
     "name": "stderr",
     "output_type": "stream",
     "text": [
      "       3/20         0G      1.375      1.676      1.234         46        480: 100%|██████████| 169/169 [10:44<00:00,  3.82s/it]\n",
      "                 Class     Images  Instances      Box(P          R      mAP50  mAP50-95): 100%|██████████| 8/8 [00:21<00:00,  2.75s/it]"
     ]
    },
    {
     "name": "stdout",
     "output_type": "stream",
     "text": [
      "                   all        236       1129      0.329      0.649      0.417      0.264\n"
     ]
    },
    {
     "name": "stderr",
     "output_type": "stream",
     "text": [
      "\n"
     ]
    },
    {
     "name": "stdout",
     "output_type": "stream",
     "text": [
      "\n",
      "      Epoch    GPU_mem   box_loss   cls_loss   dfl_loss  Instances       Size\n"
     ]
    },
    {
     "name": "stderr",
     "output_type": "stream",
     "text": [
      "       4/20         0G      1.337      1.524      1.216         59        480: 100%|██████████| 169/169 [10:29<00:00,  3.73s/it]\n",
      "                 Class     Images  Instances      Box(P          R      mAP50  mAP50-95): 100%|██████████| 8/8 [00:23<00:00,  2.91s/it]"
     ]
    },
    {
     "name": "stdout",
     "output_type": "stream",
     "text": [
      "                   all        236       1129      0.474      0.684      0.621      0.393\n"
     ]
    },
    {
     "name": "stderr",
     "output_type": "stream",
     "text": [
      "\n"
     ]
    },
    {
     "name": "stdout",
     "output_type": "stream",
     "text": [
      "\n",
      "      Epoch    GPU_mem   box_loss   cls_loss   dfl_loss  Instances       Size\n"
     ]
    },
    {
     "name": "stderr",
     "output_type": "stream",
     "text": [
      "       5/20         0G      1.317      1.368      1.201         91        480: 100%|██████████| 169/169 [10:20<00:00,  3.67s/it]\n",
      "                 Class     Images  Instances      Box(P          R      mAP50  mAP50-95): 100%|██████████| 8/8 [00:21<00:00,  2.68s/it]"
     ]
    },
    {
     "name": "stdout",
     "output_type": "stream",
     "text": [
      "                   all        236       1129      0.748      0.746      0.787      0.515\n"
     ]
    },
    {
     "name": "stderr",
     "output_type": "stream",
     "text": [
      "\n"
     ]
    },
    {
     "name": "stdout",
     "output_type": "stream",
     "text": [
      "\n",
      "      Epoch    GPU_mem   box_loss   cls_loss   dfl_loss  Instances       Size\n"
     ]
    },
    {
     "name": "stderr",
     "output_type": "stream",
     "text": [
      "       6/20         0G      1.296      1.241      1.191         48        480: 100%|██████████| 169/169 [10:05<00:00,  3.59s/it]\n",
      "                 Class     Images  Instances      Box(P          R      mAP50  mAP50-95): 100%|██████████| 8/8 [00:21<00:00,  2.74s/it]"
     ]
    },
    {
     "name": "stdout",
     "output_type": "stream",
     "text": [
      "                   all        236       1129      0.805      0.819      0.826      0.527\n"
     ]
    },
    {
     "name": "stderr",
     "output_type": "stream",
     "text": [
      "\n"
     ]
    },
    {
     "name": "stdout",
     "output_type": "stream",
     "text": [
      "\n",
      "      Epoch    GPU_mem   box_loss   cls_loss   dfl_loss  Instances       Size\n"
     ]
    },
    {
     "name": "stderr",
     "output_type": "stream",
     "text": [
      "       7/20         0G      1.268      1.132      1.184         24        480: 100%|██████████| 169/169 [10:02<00:00,  3.56s/it]\n",
      "                 Class     Images  Instances      Box(P          R      mAP50  mAP50-95): 100%|██████████| 8/8 [00:21<00:00,  2.63s/it]"
     ]
    },
    {
     "name": "stdout",
     "output_type": "stream",
     "text": [
      "                   all        236       1129      0.855      0.795      0.866      0.564\n"
     ]
    },
    {
     "name": "stderr",
     "output_type": "stream",
     "text": [
      "\n"
     ]
    },
    {
     "name": "stdout",
     "output_type": "stream",
     "text": [
      "\n",
      "      Epoch    GPU_mem   box_loss   cls_loss   dfl_loss  Instances       Size\n"
     ]
    },
    {
     "name": "stderr",
     "output_type": "stream",
     "text": [
      "       8/20         0G      1.262      1.055      1.175         39        480: 100%|██████████| 169/169 [10:17<00:00,  3.65s/it]\n",
      "                 Class     Images  Instances      Box(P          R      mAP50  mAP50-95): 100%|██████████| 8/8 [00:22<00:00,  2.76s/it]"
     ]
    },
    {
     "name": "stdout",
     "output_type": "stream",
     "text": [
      "                   all        236       1129      0.842      0.829       0.88      0.571\n"
     ]
    },
    {
     "name": "stderr",
     "output_type": "stream",
     "text": [
      "\n"
     ]
    },
    {
     "name": "stdout",
     "output_type": "stream",
     "text": [
      "\n",
      "      Epoch    GPU_mem   box_loss   cls_loss   dfl_loss  Instances       Size\n"
     ]
    },
    {
     "name": "stderr",
     "output_type": "stream",
     "text": [
      "       9/20         0G      1.251      1.023      1.168         19        480: 100%|██████████| 169/169 [10:01<00:00,  3.56s/it]\n",
      "                 Class     Images  Instances      Box(P          R      mAP50  mAP50-95): 100%|██████████| 8/8 [00:21<00:00,  2.63s/it]"
     ]
    },
    {
     "name": "stdout",
     "output_type": "stream",
     "text": [
      "                   all        236       1129      0.765        0.8      0.859      0.566\n"
     ]
    },
    {
     "name": "stderr",
     "output_type": "stream",
     "text": [
      "\n"
     ]
    },
    {
     "name": "stdout",
     "output_type": "stream",
     "text": [
      "\n",
      "      Epoch    GPU_mem   box_loss   cls_loss   dfl_loss  Instances       Size\n"
     ]
    },
    {
     "name": "stderr",
     "output_type": "stream",
     "text": [
      "      10/20         0G      1.233     0.9816      1.155         43        480: 100%|██████████| 169/169 [09:57<00:00,  3.53s/it]\n",
      "                 Class     Images  Instances      Box(P          R      mAP50  mAP50-95): 100%|██████████| 8/8 [00:21<00:00,  2.67s/it]"
     ]
    },
    {
     "name": "stdout",
     "output_type": "stream",
     "text": [
      "                   all        236       1129        0.9      0.847      0.895       0.59\n"
     ]
    },
    {
     "name": "stderr",
     "output_type": "stream",
     "text": [
      "\n"
     ]
    },
    {
     "name": "stdout",
     "output_type": "stream",
     "text": [
      "Closing dataloader mosaic\n",
      "\n",
      "      Epoch    GPU_mem   box_loss   cls_loss   dfl_loss  Instances       Size\n"
     ]
    },
    {
     "name": "stderr",
     "output_type": "stream",
     "text": [
      "      11/20         0G       1.18     0.8757      1.156         25        480: 100%|██████████| 169/169 [10:34<00:00,  3.75s/it]\n",
      "                 Class     Images  Instances      Box(P          R      mAP50  mAP50-95): 100%|██████████| 8/8 [00:21<00:00,  2.73s/it]"
     ]
    },
    {
     "name": "stdout",
     "output_type": "stream",
     "text": [
      "                   all        236       1129      0.903      0.856      0.915      0.602\n"
     ]
    },
    {
     "name": "stderr",
     "output_type": "stream",
     "text": [
      "\n"
     ]
    },
    {
     "name": "stdout",
     "output_type": "stream",
     "text": [
      "\n",
      "      Epoch    GPU_mem   box_loss   cls_loss   dfl_loss  Instances       Size\n"
     ]
    },
    {
     "name": "stderr",
     "output_type": "stream",
     "text": [
      "      12/20         0G      1.166     0.8312      1.142         26        480: 100%|██████████| 169/169 [10:32<00:00,  3.74s/it]\n",
      "                 Class     Images  Instances      Box(P          R      mAP50  mAP50-95): 100%|██████████| 8/8 [00:22<00:00,  2.87s/it]"
     ]
    },
    {
     "name": "stdout",
     "output_type": "stream",
     "text": [
      "                   all        236       1129      0.918      0.853      0.905      0.613\n"
     ]
    },
    {
     "name": "stderr",
     "output_type": "stream",
     "text": [
      "\n"
     ]
    },
    {
     "name": "stdout",
     "output_type": "stream",
     "text": [
      "\n",
      "      Epoch    GPU_mem   box_loss   cls_loss   dfl_loss  Instances       Size\n"
     ]
    },
    {
     "name": "stderr",
     "output_type": "stream",
     "text": [
      "      13/20         0G      1.146     0.7883      1.136         36        480: 100%|██████████| 169/169 [10:26<00:00,  3.70s/it]\n",
      "                 Class     Images  Instances      Box(P          R      mAP50  mAP50-95): 100%|██████████| 8/8 [00:21<00:00,  2.74s/it]"
     ]
    },
    {
     "name": "stdout",
     "output_type": "stream",
     "text": [
      "                   all        236       1129       0.91      0.877      0.917       0.61\n"
     ]
    },
    {
     "name": "stderr",
     "output_type": "stream",
     "text": [
      "\n"
     ]
    },
    {
     "name": "stdout",
     "output_type": "stream",
     "text": [
      "\n",
      "      Epoch    GPU_mem   box_loss   cls_loss   dfl_loss  Instances       Size\n"
     ]
    },
    {
     "name": "stderr",
     "output_type": "stream",
     "text": [
      "      14/20         0G      1.117     0.7559       1.12          9        480: 100%|██████████| 169/169 [10:07<00:00,  3.59s/it]\n",
      "                 Class     Images  Instances      Box(P          R      mAP50  mAP50-95): 100%|██████████| 8/8 [00:20<00:00,  2.60s/it]"
     ]
    },
    {
     "name": "stdout",
     "output_type": "stream",
     "text": [
      "                   all        236       1129      0.922      0.873       0.92      0.603\n"
     ]
    },
    {
     "name": "stderr",
     "output_type": "stream",
     "text": [
      "\n"
     ]
    },
    {
     "name": "stdout",
     "output_type": "stream",
     "text": [
      "\n",
      "      Epoch    GPU_mem   box_loss   cls_loss   dfl_loss  Instances       Size\n"
     ]
    },
    {
     "name": "stderr",
     "output_type": "stream",
     "text": [
      "      15/20         0G      1.087      0.737      1.107         39        480: 100%|██████████| 169/169 [10:02<00:00,  3.56s/it]\n",
      "                 Class     Images  Instances      Box(P          R      mAP50  mAP50-95): 100%|██████████| 8/8 [00:21<00:00,  2.63s/it]"
     ]
    },
    {
     "name": "stdout",
     "output_type": "stream",
     "text": [
      "                   all        236       1129      0.924      0.862      0.918      0.629\n"
     ]
    },
    {
     "name": "stderr",
     "output_type": "stream",
     "text": [
      "\n"
     ]
    },
    {
     "name": "stdout",
     "output_type": "stream",
     "text": [
      "\n",
      "      Epoch    GPU_mem   box_loss   cls_loss   dfl_loss  Instances       Size\n"
     ]
    },
    {
     "name": "stderr",
     "output_type": "stream",
     "text": [
      "      16/20         0G      1.069     0.7073      1.089         31        480: 100%|██████████| 169/169 [10:07<00:00,  3.59s/it]\n",
      "                 Class     Images  Instances      Box(P          R      mAP50  mAP50-95): 100%|██████████| 8/8 [00:21<00:00,  2.69s/it]"
     ]
    },
    {
     "name": "stdout",
     "output_type": "stream",
     "text": [
      "                   all        236       1129      0.945      0.879      0.934      0.642\n"
     ]
    },
    {
     "name": "stderr",
     "output_type": "stream",
     "text": [
      "\n"
     ]
    },
    {
     "name": "stdout",
     "output_type": "stream",
     "text": [
      "\n",
      "      Epoch    GPU_mem   box_loss   cls_loss   dfl_loss  Instances       Size\n"
     ]
    },
    {
     "name": "stderr",
     "output_type": "stream",
     "text": [
      "      17/20         0G      1.057     0.6875      1.085         48        480: 100%|██████████| 169/169 [10:03<00:00,  3.57s/it]\n",
      "                 Class     Images  Instances      Box(P          R      mAP50  mAP50-95): 100%|██████████| 8/8 [00:20<00:00,  2.62s/it]"
     ]
    },
    {
     "name": "stdout",
     "output_type": "stream",
     "text": [
      "                   all        236       1129      0.936      0.896      0.942      0.643\n"
     ]
    },
    {
     "name": "stderr",
     "output_type": "stream",
     "text": [
      "\n"
     ]
    },
    {
     "name": "stdout",
     "output_type": "stream",
     "text": [
      "\n",
      "      Epoch    GPU_mem   box_loss   cls_loss   dfl_loss  Instances       Size\n"
     ]
    },
    {
     "name": "stderr",
     "output_type": "stream",
     "text": [
      "      18/20         0G       1.04     0.6737      1.079         43        480: 100%|██████████| 169/169 [10:13<00:00,  3.63s/it]\n",
      "                 Class     Images  Instances      Box(P          R      mAP50  mAP50-95): 100%|██████████| 8/8 [00:21<00:00,  2.67s/it]"
     ]
    },
    {
     "name": "stdout",
     "output_type": "stream",
     "text": [
      "                   all        236       1129      0.947      0.879      0.938      0.648\n"
     ]
    },
    {
     "name": "stderr",
     "output_type": "stream",
     "text": [
      "\n"
     ]
    },
    {
     "name": "stdout",
     "output_type": "stream",
     "text": [
      "\n",
      "      Epoch    GPU_mem   box_loss   cls_loss   dfl_loss  Instances       Size\n"
     ]
    },
    {
     "name": "stderr",
     "output_type": "stream",
     "text": [
      "      19/20         0G      1.022     0.6579      1.073         32        480: 100%|██████████| 169/169 [10:09<00:00,  3.61s/it]\n",
      "                 Class     Images  Instances      Box(P          R      mAP50  mAP50-95): 100%|██████████| 8/8 [00:20<00:00,  2.61s/it]"
     ]
    },
    {
     "name": "stdout",
     "output_type": "stream",
     "text": [
      "                   all        236       1129      0.943      0.888      0.941      0.654\n"
     ]
    },
    {
     "name": "stderr",
     "output_type": "stream",
     "text": [
      "\n"
     ]
    },
    {
     "name": "stdout",
     "output_type": "stream",
     "text": [
      "\n",
      "      Epoch    GPU_mem   box_loss   cls_loss   dfl_loss  Instances       Size\n"
     ]
    },
    {
     "name": "stderr",
     "output_type": "stream",
     "text": [
      "      20/20         0G      1.007     0.6436      1.065         33        480: 100%|██████████| 169/169 [09:53<00:00,  3.51s/it]\n",
      "                 Class     Images  Instances      Box(P          R      mAP50  mAP50-95): 100%|██████████| 8/8 [00:21<00:00,  2.74s/it]"
     ]
    },
    {
     "name": "stdout",
     "output_type": "stream",
     "text": [
      "                   all        236       1129      0.937      0.899      0.941      0.652\n"
     ]
    },
    {
     "name": "stderr",
     "output_type": "stream",
     "text": [
      "\n"
     ]
    },
    {
     "name": "stdout",
     "output_type": "stream",
     "text": [
      "\n",
      "20 epochs completed in 3.587 hours.\n",
      "Optimizer stripped from runs/detect/train/weights/last.pt, 6.2MB\n",
      "Optimizer stripped from runs/detect/train/weights/best.pt, 6.2MB\n",
      "\n",
      "Validating runs/detect/train/weights/best.pt...\n",
      "Ultralytics YOLOv8.0.227 🚀 Python-3.9.18 torch-1.13.1 CPU (Apple M1)\n",
      "Model summary (fused): 168 layers, 3009158 parameters, 0 gradients\n"
     ]
    },
    {
     "name": "stderr",
     "output_type": "stream",
     "text": [
      "                 Class     Images  Instances      Box(P          R      mAP50  mAP50-95): 100%|██████████| 8/8 [00:23<00:00,  2.94s/it]\n"
     ]
    },
    {
     "name": "stdout",
     "output_type": "stream",
     "text": [
      "                   all        236       1129      0.941      0.889      0.941      0.654\n",
      "                FRI-am        236         39      0.974      0.967       0.97      0.686\n",
      "                FRI-pm        236         39      0.982      0.949      0.967      0.708\n",
      "                 Hands        236        261       0.94      0.784      0.943       0.55\n",
      "                MON-am        236         39      0.988      0.974      0.977      0.738\n",
      "                MON-pm        236         39      0.956          1      0.994      0.646\n",
      "                  Open        236         82      0.873      0.537      0.717      0.325\n",
      "                  Pill        236        158      0.793       0.85      0.909      0.625\n",
      "               PillBox        236         82      0.973      0.768      0.941      0.633\n",
      "                SAT-am        236         39      0.939      0.897      0.907      0.679\n",
      "                SAT-pm        236         39      0.894      0.897      0.921      0.694\n",
      "                SUN-am        236         37      0.891      0.919      0.935      0.649\n",
      "                SUN-pm        236         41      0.931      0.902      0.985      0.694\n",
      "                THU-am        236         44      0.975      0.886       0.96      0.651\n",
      "                THU-pm        236         39      0.991      0.949      0.948      0.663\n",
      "                TUE-am        236         34      0.939        0.9      0.966      0.737\n",
      "                TUE-pm        236         39          1      0.912      0.977      0.693\n",
      "                WED-am        236         39      0.925      0.974      0.975       0.71\n",
      "                WED-pm        236         39      0.973      0.937      0.952      0.685\n",
      "Speed: 0.8ms preprocess, 93.7ms inference, 0.0ms loss, 0.5ms postprocess per image\n",
      "Results saved to \u001b[1mruns/detect/train\u001b[0m\n"
     ]
    }
   ],
   "source": [
    "from ultralytics import YOLO\n",
    "from pathlib import Path\n",
    "\n",
    "absolute_from_relative_path = Path('data.yaml').resolve()\n",
    "\n",
    "model = YOLO('yolov8n.pt')  # Load a pretrained model (recommended for training)\n",
    "results = model.train(data=absolute_from_relative_path, epochs=20, imgsz=480)\n"
   ]
  },
  {
   "cell_type": "code",
   "execution_count": null,
   "metadata": {},
   "outputs": [],
   "source": [
    "from ultralytics import YOLO\n",
    "import os\n",
    "\n",
    "# Load the trained YOLOv8 model\n",
    "model = YOLO('runs/detect/train2/weights/best.pt')  # Path to your trained model\n",
    "\n",
    "# Path to the test images\n",
    "test_images_path = '/Users/alessiacolumban/Desktop/2023-2024-projectone-ctai-AlessCol7/PillPoint/AI/PillPoint.v4i.yolov8/test/images'\n",
    "\n",
    "# Get all test images\n",
    "test_images = [os.path.join(test_images_path, img) for img in os.listdir(test_images_path) if img.endswith(('.png', '.jpg', '.jpeg'))]\n",
    "\n",
    "# Run inference on the test set\n",
    "results = model.predict(test_images, save=True, save_txt=True, save_conf=True, save_crop=False)\n",
    "\n",
    "# Print results\n",
    "for result in results:\n",
    "    print(f\"Image: {result.path}\")\n",
    "    print(f\"Predictions: {result.boxes}\")\n",
    "\n",
    "# Results will be saved in the 'runs' directory\n"
   ]
  },
  {
   "cell_type": "code",
   "execution_count": null,
   "metadata": {},
   "outputs": [],
   "source": [
    "import cv2\n",
    "from ultralytics import YOLO\n",
    "from PIL import Image, ImageTk\n",
    "import tkinter as tk\n",
    "import socket\n",
    "import threading\n",
    "import time\n",
    "\n",
    "# Load the trained YOLOv8 model\n",
    "try:\n",
    "    model = YOLO('runs/detect/train2/weights/best.pt')\n",
    "except Exception as e:\n",
    "    print(f\"Error loading model: {e}\")\n",
    "    exit()\n",
    "\n",
    "# Define the class names\n",
    "class_names = ['FRI-am', 'FRI-pm', 'Hands', 'MON-am', 'MON-pm', 'Open', 'Pill', 'PillBox', 'SAT-am', 'SAT-pm', 'SUN-am', 'SUN-pm', 'THU-am', 'THU-pm', 'TUE-am', 'TUE-pm', 'WED-am', 'WED-pm']\n",
    "\n",
    "# Define colors for each class\n",
    "class_colors = {\n",
    "    'FRI-am': (0, 255, 255),\n",
    "    'FRI-pm': (255, 255, 0),\n",
    "    'Hands': (0, 255, 0),\n",
    "    'MON-am': (255, 0, 255),\n",
    "    'MON-pm': (0, 255, 255),\n",
    "    'Open': (255, 255, 0),\n",
    "    'Pill': (255, 0, 0),\n",
    "    'PillBox': (0, 255, 255),\n",
    "    'SAT-am': (255, 165, 0),\n",
    "    'SAT-pm': (255, 69, 0),\n",
    "    'SUN-am': (128, 0, 128),\n",
    "    'SUN-pm': (75, 0, 130),\n",
    "    'THU-am': (0, 255, 255),\n",
    "    'THU-pm': (0, 128, 128),\n",
    "    'TUE-am': (255, 0, 255),\n",
    "    'TUE-pm': (128, 0, 0),\n",
    "    'WED-am': (0, 0, 255),\n",
    "    'WED-pm': (0, 128, 0)\n",
    "}\n",
    "\n",
    "# Dictionary with human-readable descriptions for days and times\n",
    "days_and_times = {\n",
    "    'FRI-am': 'Friday Morning',\n",
    "    'FRI-pm': 'Friday Afternoon',\n",
    "    'Hands': 'Anytime',\n",
    "    'MON-am': 'Monday Morning',\n",
    "    'MON-pm': 'Monday Afternoon',\n",
    "    'Open': 'Anytime',\n",
    "    'Pill': 'Anytime',\n",
    "    'PillBox': 'Anytime',\n",
    "    'SAT-am': 'Saturday Morning',\n",
    "    'SAT-pm': 'Saturday Afternoon',\n",
    "    'SUN-am': 'Sunday Morning',\n",
    "    'SUN-pm': 'Sunday Afternoon',\n",
    "    'THU-am': 'Thursday Morning',\n",
    "    'THU-pm': 'Thursday Afternoon',\n",
    "    'TUE-am': 'Tuesday Morning',\n",
    "    'TUE-pm': 'Tuesday Afternoon',\n",
    "    'WED-am': 'Wednesday Morning',\n",
    "    'WED-pm': 'Wednesday Afternoon'\n",
    "}\n",
    "\n",
    "# Server address and port for Raspberry Pi\n",
    "server_address = ('192.168.168.167', 1442)  # Change this to your Raspberry Pi IP and port\n",
    "\n",
    "# Global vars for use in methods/threads\n",
    "client_socket = None\n",
    "receive_thread = None\n",
    "shutdown_flag = threading.Event()\n",
    "last_notification_time = 0\n",
    "notification_interval = 1\n",
    "current_day_time = None\n",
    "\n",
    "def setup_socket_client():\n",
    "    global client_socket, receive_thread\n",
    "    client_socket = socket.socket(socket.AF_INET, socket.SOCK_STREAM)  # Create a socket instance\n",
    "    client_socket.connect(server_address)  # Connect to specified server\n",
    "    print(\"Connected to server\")\n",
    "\n",
    "    receive_thread = threading.Thread(target=receive_messages, args=(client_socket, shutdown_flag))\n",
    "    receive_thread.start()\n",
    "\n",
    "def receive_messages(sock, shutdown_flag):\n",
    "    global current_day_time\n",
    "    sock.settimeout(1)  # Set a timeout on the socket so we can check shutdown_flag.is_set in the loop, instead of blocking\n",
    "    try:\n",
    "        while not shutdown_flag.is_set():  # As long as ctrl+c is not pressed\n",
    "            try:\n",
    "                data = sock.recv(1024)  # Try to receive 1024 bytes of data (maximum amount; can be less)\n",
    "                if not data:  # When no data is received, try again (and shutdown flag is checked again)\n",
    "                    break\n",
    "                current_day_time = data.decode()\n",
    "                print(\"Received from server:\", current_day_time)  # Print the received data, or do something with it\n",
    "            except socket.timeout:  # When no data comes within timeout, try again\n",
    "                continue\n",
    "    except Exception as e:\n",
    "        if not shutdown_flag.is_set():\n",
    "            print(f\"Connection error: {e}\")\n",
    "    finally:\n",
    "        sock.close()\n",
    "\n",
    "def request_date_time():\n",
    "    global client_socket\n",
    "    try:\n",
    "        client_socket.sendall(\"Request date and time\".encode())\n",
    "    except Exception as e:\n",
    "        print(f\"Failed to request date and time: {e}\")\n",
    "\n",
    "# Function to draw bounding boxes with different colors\n",
    "def draw_bounding_boxes(image, results):\n",
    "    global last_notification_time, current_day_time\n",
    "    boxes = results[0].boxes.xyxy.cpu().numpy()\n",
    "    confs = results[0].boxes.conf.cpu().numpy()\n",
    "    classes = results[0].boxes.cls.cpu().numpy()\n",
    "    \n",
    "    pillbox_detected = False\n",
    "    wrong_compartment_opened = False\n",
    "    \n",
    "    for i, box in enumerate(boxes):\n",
    "        x1, y1, x2, y2 = map(int, box)\n",
    "        conf = confs[i]\n",
    "        cls = int(classes[i])\n",
    "        label = class_names[cls]\n",
    "        \n",
    "        # Get color for the class\n",
    "        color = class_colors.get(label, (0, 0, 255))  # Default to blue if not found\n",
    "        \n",
    "        # Draw bounding box and label\n",
    "        cv2.rectangle(image, (x1, y1), (x2, y2), color, 2)\n",
    "        cv2.putText(image, f'{label} {confs[i]:.2f}', (x1, y1 - 10), cv2.FONT_HERSHEY_SIMPLEX, 0.9, color, 2)\n",
    "        \n",
    "        # Check if PillBox is detected\n",
    "        if label == 'PillBox':\n",
    "            pillbox_detected = True\n",
    "            \n",
    "        # Check if the compartment corresponds to the current day and time\n",
    "        if pillbox_detected and label.startswith(('MON', 'TUE', 'WED', 'THU', 'FRI', 'SAT', 'SUN')):\n",
    "            if current_day_time and label not in current_day_time:\n",
    "                wrong_compartment_opened = True\n",
    "            \n",
    "        if wrong_compartment_opened:\n",
    "            # Add logic to trigger buzzer notification\n",
    "            send_buzzer_notification()\n",
    "\n",
    "def send_buzzer_notification():\n",
    "    global client_socket\n",
    "    try:\n",
    "        client_socket.sendall(\"Wrong pill detected\".encode())\n",
    "    except Exception as e:\n",
    "        print(f\"Failed to send buzzer notification: {e}\")\n",
    "\n",
    "# AI part\n",
    "def process_frame(frame):\n",
    "    # Perform inference with the YOLOv8 model\n",
    "    try:\n",
    "        results = model(frame)\n",
    "    except Exception as e:\n",
    "        print(f\"Error performing inference: {e}\")\n",
    "        return frame\n",
    "\n",
    "    # Annotate the frame with detection results\n",
    "    draw_bounding_boxes(frame, results)\n",
    "\n",
    "    return frame\n",
    "\n",
    "# Tkinter GUI part\n",
    "def update_frame():\n",
    "    ret, frame = cap.read()\n",
    "    if ret:\n",
    "        frame = cv2.cvtColor(frame, cv2.COLOR_BGR2RGB)  # Convert colorspace from BGR to RGB\n",
    "        frame = process_frame(frame)\n",
    "        img = Image.fromarray(frame)\n",
    "        imgtk = ImageTk.PhotoImage(image=img)\n",
    "        label_img.imgtk = imgtk\n",
    "        label_img.configure(image=imgtk)\n",
    "    else:\n",
    "        print(\"Error reading frame from webcam\")\n",
    "    label_img.after(10, update_frame)  # Schedule the update after 10 milliseconds\n",
    "\n",
    "# Initialize the webcam\n",
    "cap = cv2.VideoCapture(0)\n",
    "\n",
    "# Setup Tkinter window\n",
    "window = tk.Tk()\n",
    "window.title(\"Pill Detection\")\n",
    "window.geometry(\"800x600\")\n",
    "\n",
    "# Create a label to display the webcam feed\n",
    "label_img = tk.Label(window)\n",
    "label_img.pack()\n",
    "\n",
    "# Start the socket client\n",
    "setup_socket_client()\n",
    "\n",
    "# Request the initial date and time\n",
    "request_date_time()\n",
    "\n",
    "# Start the webcam feed update\n",
    "update_frame()\n",
    "\n",
    "# Start the Tkinter event loop\n",
    "window.mainloop()\n",
    "\n",
    "# Release the webcam\n",
    "cap.release()\n",
    "\n"
   ]
  }
 ],
 "metadata": {
  "kernelspec": {
   "display_name": "yolo",
   "language": "python",
   "name": "python3"
  },
  "language_info": {
   "codemirror_mode": {
    "name": "ipython",
    "version": 3
   },
   "file_extension": ".py",
   "mimetype": "text/x-python",
   "name": "python",
   "nbconvert_exporter": "python",
   "pygments_lexer": "ipython3",
   "version": "3.9.18"
  }
 },
 "nbformat": 4,
 "nbformat_minor": 2
}
